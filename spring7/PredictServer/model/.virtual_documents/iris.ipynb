import pandas as pd
import pickle 
from sklearn.datasets import load_iris
from sklearn.neighbors import KNeighborsClassifier
from sklearn.model_selection import train_test_split

#데이터 불러오기 
iris = load_iris()



#DF로 만들기 
irid_df = pd.DataFrame(iris['data'],columns=iris['feature_names'])
target = iris['target_names']
display(irid_df)
# display(target)


# 문제와 답을 나누는 작업 
x = irid_df
y = iris['target']

# x1_train = x.iloc[:105]
# x1_test = x.iloc[105:]
# y1_train = y[:105]
# y1_test = y[105:]

x_train,x_test,y_train,y_test = train_test_split(x,y,test_size=0.3,random_state=1)
display(y_train)


# 모델 만들기
knn_model = KNeighborsClassifier()
KNeighborsClassifier(n_neighbors=3)
knn_model.fit(x_train,y_train)

# 예측하기 
knn_model.predict(x_test)
print(knn_model.score(x_test,y_test))


#데이터를 입력하여 결과 확인 --> 
pred = knn_model.predict([[5.1,3.5,1.4,0.2]])
print("결과: ",target[pred[0]])



# 피클파일로 저장 

with open('data.pickle','wb') as f:
    pickle.dump(knn_model,f,pickle.HIGHEST_PROTOCOL)


iris.target_names



